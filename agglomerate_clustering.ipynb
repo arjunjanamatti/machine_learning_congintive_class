{
 "cells": [
  {
   "cell_type": "code",
   "execution_count": 1,
   "metadata": {
    "ExecuteTime": {
     "end_time": "2020-06-17T07:32:42.363281Z",
     "start_time": "2020-06-17T07:32:40.590254Z"
    }
   },
   "outputs": [],
   "source": [
    "import numpy as np \n",
    "import pandas as pd\n",
    "from scipy import ndimage \n",
    "from scipy.cluster import hierarchy \n",
    "from scipy.spatial import distance_matrix \n",
    "from matplotlib import pyplot as plt \n",
    "from sklearn import manifold, datasets \n",
    "from sklearn.cluster import AgglomerativeClustering \n",
    "from sklearn.datasets.samples_generator import make_blobs \n",
    "%matplotlib inline"
   ]
  },
  {
   "cell_type": "code",
   "execution_count": 2,
   "metadata": {
    "ExecuteTime": {
     "end_time": "2020-06-17T07:34:05.369768Z",
     "start_time": "2020-06-17T07:34:05.283093Z"
    }
   },
   "outputs": [
    {
     "data": {
      "text/html": [
       "<div>\n",
       "<style scoped>\n",
       "    .dataframe tbody tr th:only-of-type {\n",
       "        vertical-align: middle;\n",
       "    }\n",
       "\n",
       "    .dataframe tbody tr th {\n",
       "        vertical-align: top;\n",
       "    }\n",
       "\n",
       "    .dataframe thead th {\n",
       "        text-align: right;\n",
       "    }\n",
       "</style>\n",
       "<table border=\"1\" class=\"dataframe\">\n",
       "  <thead>\n",
       "    <tr style=\"text-align: right;\">\n",
       "      <th></th>\n",
       "      <th>manufact</th>\n",
       "      <th>model</th>\n",
       "      <th>sales</th>\n",
       "      <th>resale</th>\n",
       "      <th>type</th>\n",
       "      <th>price</th>\n",
       "      <th>engine_s</th>\n",
       "      <th>horsepow</th>\n",
       "      <th>wheelbas</th>\n",
       "      <th>width</th>\n",
       "      <th>length</th>\n",
       "      <th>curb_wgt</th>\n",
       "      <th>fuel_cap</th>\n",
       "      <th>mpg</th>\n",
       "      <th>lnsales</th>\n",
       "      <th>partition</th>\n",
       "    </tr>\n",
       "  </thead>\n",
       "  <tbody>\n",
       "    <tr>\n",
       "      <td>0</td>\n",
       "      <td>Acura</td>\n",
       "      <td>Integra</td>\n",
       "      <td>16.919</td>\n",
       "      <td>16.360</td>\n",
       "      <td>0.000</td>\n",
       "      <td>21.500</td>\n",
       "      <td>1.800</td>\n",
       "      <td>140.000</td>\n",
       "      <td>101.200</td>\n",
       "      <td>67.300</td>\n",
       "      <td>172.400</td>\n",
       "      <td>2.639</td>\n",
       "      <td>13.200</td>\n",
       "      <td>28.000</td>\n",
       "      <td>2.828</td>\n",
       "      <td>0.0</td>\n",
       "    </tr>\n",
       "    <tr>\n",
       "      <td>1</td>\n",
       "      <td>Acura</td>\n",
       "      <td>TL</td>\n",
       "      <td>39.384</td>\n",
       "      <td>19.875</td>\n",
       "      <td>0.000</td>\n",
       "      <td>28.400</td>\n",
       "      <td>3.200</td>\n",
       "      <td>225.000</td>\n",
       "      <td>108.100</td>\n",
       "      <td>70.300</td>\n",
       "      <td>192.900</td>\n",
       "      <td>3.517</td>\n",
       "      <td>17.200</td>\n",
       "      <td>25.000</td>\n",
       "      <td>3.673</td>\n",
       "      <td>0.0</td>\n",
       "    </tr>\n",
       "    <tr>\n",
       "      <td>2</td>\n",
       "      <td>Acura</td>\n",
       "      <td>CL</td>\n",
       "      <td>14.114</td>\n",
       "      <td>18.225</td>\n",
       "      <td>0.000</td>\n",
       "      <td>$null$</td>\n",
       "      <td>3.200</td>\n",
       "      <td>225.000</td>\n",
       "      <td>106.900</td>\n",
       "      <td>70.600</td>\n",
       "      <td>192.000</td>\n",
       "      <td>3.470</td>\n",
       "      <td>17.200</td>\n",
       "      <td>26.000</td>\n",
       "      <td>2.647</td>\n",
       "      <td>0.0</td>\n",
       "    </tr>\n",
       "    <tr>\n",
       "      <td>3</td>\n",
       "      <td>Acura</td>\n",
       "      <td>RL</td>\n",
       "      <td>8.588</td>\n",
       "      <td>29.725</td>\n",
       "      <td>0.000</td>\n",
       "      <td>42.000</td>\n",
       "      <td>3.500</td>\n",
       "      <td>210.000</td>\n",
       "      <td>114.600</td>\n",
       "      <td>71.400</td>\n",
       "      <td>196.600</td>\n",
       "      <td>3.850</td>\n",
       "      <td>18.000</td>\n",
       "      <td>22.000</td>\n",
       "      <td>2.150</td>\n",
       "      <td>0.0</td>\n",
       "    </tr>\n",
       "    <tr>\n",
       "      <td>4</td>\n",
       "      <td>Audi</td>\n",
       "      <td>A4</td>\n",
       "      <td>20.397</td>\n",
       "      <td>22.255</td>\n",
       "      <td>0.000</td>\n",
       "      <td>23.990</td>\n",
       "      <td>1.800</td>\n",
       "      <td>150.000</td>\n",
       "      <td>102.600</td>\n",
       "      <td>68.200</td>\n",
       "      <td>178.000</td>\n",
       "      <td>2.998</td>\n",
       "      <td>16.400</td>\n",
       "      <td>27.000</td>\n",
       "      <td>3.015</td>\n",
       "      <td>0.0</td>\n",
       "    </tr>\n",
       "    <tr>\n",
       "      <td>...</td>\n",
       "      <td>...</td>\n",
       "      <td>...</td>\n",
       "      <td>...</td>\n",
       "      <td>...</td>\n",
       "      <td>...</td>\n",
       "      <td>...</td>\n",
       "      <td>...</td>\n",
       "      <td>...</td>\n",
       "      <td>...</td>\n",
       "      <td>...</td>\n",
       "      <td>...</td>\n",
       "      <td>...</td>\n",
       "      <td>...</td>\n",
       "      <td>...</td>\n",
       "      <td>...</td>\n",
       "      <td>...</td>\n",
       "    </tr>\n",
       "    <tr>\n",
       "      <td>154</td>\n",
       "      <td>Volvo</td>\n",
       "      <td>V70</td>\n",
       "      <td>17.531</td>\n",
       "      <td>$null$</td>\n",
       "      <td>0.000</td>\n",
       "      <td>28.800</td>\n",
       "      <td>2.400</td>\n",
       "      <td>168.000</td>\n",
       "      <td>104.900</td>\n",
       "      <td>69.300</td>\n",
       "      <td>186.200</td>\n",
       "      <td>3.259</td>\n",
       "      <td>17.900</td>\n",
       "      <td>25.000</td>\n",
       "      <td>2.864</td>\n",
       "      <td>0.0</td>\n",
       "    </tr>\n",
       "    <tr>\n",
       "      <td>155</td>\n",
       "      <td>Volvo</td>\n",
       "      <td>C70</td>\n",
       "      <td>3.493</td>\n",
       "      <td>$null$</td>\n",
       "      <td>0.000</td>\n",
       "      <td>45.500</td>\n",
       "      <td>2.300</td>\n",
       "      <td>236.000</td>\n",
       "      <td>104.900</td>\n",
       "      <td>71.500</td>\n",
       "      <td>185.700</td>\n",
       "      <td>3.601</td>\n",
       "      <td>18.500</td>\n",
       "      <td>23.000</td>\n",
       "      <td>1.251</td>\n",
       "      <td>0.0</td>\n",
       "    </tr>\n",
       "    <tr>\n",
       "      <td>156</td>\n",
       "      <td>Volvo</td>\n",
       "      <td>S80</td>\n",
       "      <td>18.969</td>\n",
       "      <td>$null$</td>\n",
       "      <td>0.000</td>\n",
       "      <td>36.000</td>\n",
       "      <td>2.900</td>\n",
       "      <td>201.000</td>\n",
       "      <td>109.900</td>\n",
       "      <td>72.100</td>\n",
       "      <td>189.800</td>\n",
       "      <td>3.600</td>\n",
       "      <td>21.100</td>\n",
       "      <td>24.000</td>\n",
       "      <td>2.943</td>\n",
       "      <td>0.0</td>\n",
       "    </tr>\n",
       "    <tr>\n",
       "      <td>157</td>\n",
       "      <td>NaN</td>\n",
       "      <td>newCar</td>\n",
       "      <td>$null$</td>\n",
       "      <td>$null$</td>\n",
       "      <td>$null$</td>\n",
       "      <td>21.500</td>\n",
       "      <td>1.500</td>\n",
       "      <td>76.000</td>\n",
       "      <td>106.300</td>\n",
       "      <td>67.900</td>\n",
       "      <td>175.000</td>\n",
       "      <td>2.932</td>\n",
       "      <td>11.900</td>\n",
       "      <td>46.000</td>\n",
       "      <td>$null$</td>\n",
       "      <td>1.0</td>\n",
       "    </tr>\n",
       "    <tr>\n",
       "      <td>158</td>\n",
       "      <td>NaN</td>\n",
       "      <td>newTruck</td>\n",
       "      <td>$null$</td>\n",
       "      <td>$null$</td>\n",
       "      <td>$null$</td>\n",
       "      <td>34.200</td>\n",
       "      <td>3.500</td>\n",
       "      <td>167.000</td>\n",
       "      <td>109.800</td>\n",
       "      <td>75.200</td>\n",
       "      <td>188.400</td>\n",
       "      <td>4.508</td>\n",
       "      <td>17.200</td>\n",
       "      <td>26.000</td>\n",
       "      <td>$null$</td>\n",
       "      <td>1.0</td>\n",
       "    </tr>\n",
       "  </tbody>\n",
       "</table>\n",
       "<p>159 rows × 16 columns</p>\n",
       "</div>"
      ],
      "text/plain": [
       "    manufact     model   sales  resale    type   price engine_s horsepow  \\\n",
       "0      Acura   Integra  16.919  16.360   0.000  21.500    1.800  140.000   \n",
       "1      Acura        TL  39.384  19.875   0.000  28.400    3.200  225.000   \n",
       "2      Acura        CL  14.114  18.225   0.000  $null$    3.200  225.000   \n",
       "3      Acura        RL   8.588  29.725   0.000  42.000    3.500  210.000   \n",
       "4       Audi        A4  20.397  22.255   0.000  23.990    1.800  150.000   \n",
       "..       ...       ...     ...     ...     ...     ...      ...      ...   \n",
       "154    Volvo       V70  17.531  $null$   0.000  28.800    2.400  168.000   \n",
       "155    Volvo       C70   3.493  $null$   0.000  45.500    2.300  236.000   \n",
       "156    Volvo       S80  18.969  $null$   0.000  36.000    2.900  201.000   \n",
       "157      NaN    newCar  $null$  $null$  $null$  21.500    1.500   76.000   \n",
       "158      NaN  newTruck  $null$  $null$  $null$  34.200    3.500  167.000   \n",
       "\n",
       "    wheelbas   width   length curb_wgt fuel_cap     mpg lnsales  partition  \n",
       "0    101.200  67.300  172.400    2.639   13.200  28.000   2.828        0.0  \n",
       "1    108.100  70.300  192.900    3.517   17.200  25.000   3.673        0.0  \n",
       "2    106.900  70.600  192.000    3.470   17.200  26.000   2.647        0.0  \n",
       "3    114.600  71.400  196.600    3.850   18.000  22.000   2.150        0.0  \n",
       "4    102.600  68.200  178.000    2.998   16.400  27.000   3.015        0.0  \n",
       "..       ...     ...      ...      ...      ...     ...     ...        ...  \n",
       "154  104.900  69.300  186.200    3.259   17.900  25.000   2.864        0.0  \n",
       "155  104.900  71.500  185.700    3.601   18.500  23.000   1.251        0.0  \n",
       "156  109.900  72.100  189.800    3.600   21.100  24.000   2.943        0.0  \n",
       "157  106.300  67.900  175.000    2.932   11.900  46.000  $null$        1.0  \n",
       "158  109.800  75.200  188.400    4.508   17.200  26.000  $null$        1.0  \n",
       "\n",
       "[159 rows x 16 columns]"
      ]
     },
     "execution_count": 2,
     "metadata": {},
     "output_type": "execute_result"
    }
   ],
   "source": [
    "raw_data = pd.read_csv('cars_clus.csv')\n",
    "raw_data"
   ]
  },
  {
   "cell_type": "markdown",
   "metadata": {},
   "source": [
    "* Here all the rows with null values are being deleted in the dataframe"
   ]
  },
  {
   "cell_type": "code",
   "execution_count": 16,
   "metadata": {
    "ExecuteTime": {
     "end_time": "2020-06-17T07:48:42.054549Z",
     "start_time": "2020-06-17T07:48:42.046070Z"
    }
   },
   "outputs": [
    {
     "name": "stdout",
     "output_type": "stream",
     "text": [
      "Number of rows before deleting rows with 'NaN':  2544\n",
      "\n",
      "Number of rows after deleting rows with 'NaN':  2512\n"
     ]
    }
   ],
   "source": [
    "print(\"Number of rows before deleting rows with 'NaN': \", raw_data.size)\n",
    "raw_data_drop_rows = raw_data.dropna(axis=0)\n",
    "print()\n",
    "print(\"Number of rows after deleting rows with 'NaN': \", raw_data_drop_rows.size)\n",
    "\n"
   ]
  },
  {
   "cell_type": "code",
   "execution_count": 21,
   "metadata": {
    "ExecuteTime": {
     "end_time": "2020-06-17T07:49:45.327946Z",
     "start_time": "2020-06-17T07:49:45.316478Z"
    }
   },
   "outputs": [
    {
     "data": {
      "text/plain": [
       "manufact      0\n",
       "model         0\n",
       "sales         0\n",
       "resale       36\n",
       "type          0\n",
       "price         2\n",
       "engine_s      1\n",
       "horsepow      1\n",
       "wheelbas      1\n",
       "width         1\n",
       "length        1\n",
       "curb_wgt      2\n",
       "fuel_cap      1\n",
       "mpg           3\n",
       "lnsales       0\n",
       "partition     0\n",
       "dtype: int64"
      ]
     },
     "execution_count": 21,
     "metadata": {},
     "output_type": "execute_result"
    }
   ],
   "source": [
    "raw_data_drop_rows.isna().sum()"
   ]
  },
  {
   "cell_type": "code",
   "execution_count": 17,
   "metadata": {
    "ExecuteTime": {
     "end_time": "2020-06-17T07:49:11.422593Z",
     "start_time": "2020-06-17T07:49:11.407892Z"
    }
   },
   "outputs": [
    {
     "name": "stdout",
     "output_type": "stream",
     "text": [
      "Number of rows before deleting rows with 'null:  2512\n",
      "\n",
      "Number of rows after deleting rows with 'null':  1872\n"
     ]
    }
   ],
   "source": [
    "raw_data_drop_rows = raw_data_drop_rows.replace('$null$', np.nan)\n",
    "\n",
    "print(\"Number of rows before deleting rows with 'null: \", raw_data_drop_rows.size)\n",
    "raw_data_drop_rows_1 = raw_data_drop_rows.dropna(axis=0)\n",
    "print()\n",
    "print(\"Number of rows after deleting rows with 'null': \", raw_data_drop_rows_1.size)\n"
   ]
  },
  {
   "cell_type": "code",
   "execution_count": 22,
   "metadata": {
    "ExecuteTime": {
     "end_time": "2020-06-17T07:49:51.568036Z",
     "start_time": "2020-06-17T07:49:51.552441Z"
    }
   },
   "outputs": [
    {
     "data": {
      "text/plain": [
       "manufact     0\n",
       "model        0\n",
       "sales        0\n",
       "resale       0\n",
       "type         0\n",
       "price        0\n",
       "engine_s     0\n",
       "horsepow     0\n",
       "wheelbas     0\n",
       "width        0\n",
       "length       0\n",
       "curb_wgt     0\n",
       "fuel_cap     0\n",
       "mpg          0\n",
       "lnsales      0\n",
       "partition    0\n",
       "dtype: int64"
      ]
     },
     "execution_count": 22,
     "metadata": {},
     "output_type": "execute_result"
    }
   ],
   "source": [
    "raw_data_drop_rows_1.isna().sum()"
   ]
  },
  {
   "cell_type": "code",
   "execution_count": 23,
   "metadata": {
    "ExecuteTime": {
     "end_time": "2020-06-17T07:50:06.695318Z",
     "start_time": "2020-06-17T07:50:06.660835Z"
    }
   },
   "outputs": [
    {
     "data": {
      "text/html": [
       "<div>\n",
       "<style scoped>\n",
       "    .dataframe tbody tr th:only-of-type {\n",
       "        vertical-align: middle;\n",
       "    }\n",
       "\n",
       "    .dataframe tbody tr th {\n",
       "        vertical-align: top;\n",
       "    }\n",
       "\n",
       "    .dataframe thead th {\n",
       "        text-align: right;\n",
       "    }\n",
       "</style>\n",
       "<table border=\"1\" class=\"dataframe\">\n",
       "  <thead>\n",
       "    <tr style=\"text-align: right;\">\n",
       "      <th></th>\n",
       "      <th>manufact</th>\n",
       "      <th>model</th>\n",
       "      <th>sales</th>\n",
       "      <th>resale</th>\n",
       "      <th>type</th>\n",
       "      <th>price</th>\n",
       "      <th>engine_s</th>\n",
       "      <th>horsepow</th>\n",
       "      <th>wheelbas</th>\n",
       "      <th>width</th>\n",
       "      <th>length</th>\n",
       "      <th>curb_wgt</th>\n",
       "      <th>fuel_cap</th>\n",
       "      <th>mpg</th>\n",
       "      <th>lnsales</th>\n",
       "      <th>partition</th>\n",
       "    </tr>\n",
       "  </thead>\n",
       "  <tbody>\n",
       "    <tr>\n",
       "      <td>0</td>\n",
       "      <td>Acura</td>\n",
       "      <td>Integra</td>\n",
       "      <td>16.919</td>\n",
       "      <td>16.360</td>\n",
       "      <td>0.000</td>\n",
       "      <td>21.500</td>\n",
       "      <td>1.800</td>\n",
       "      <td>140.000</td>\n",
       "      <td>101.200</td>\n",
       "      <td>67.300</td>\n",
       "      <td>172.400</td>\n",
       "      <td>2.639</td>\n",
       "      <td>13.200</td>\n",
       "      <td>28.000</td>\n",
       "      <td>2.828</td>\n",
       "      <td>0.0</td>\n",
       "    </tr>\n",
       "    <tr>\n",
       "      <td>1</td>\n",
       "      <td>Acura</td>\n",
       "      <td>TL</td>\n",
       "      <td>39.384</td>\n",
       "      <td>19.875</td>\n",
       "      <td>0.000</td>\n",
       "      <td>28.400</td>\n",
       "      <td>3.200</td>\n",
       "      <td>225.000</td>\n",
       "      <td>108.100</td>\n",
       "      <td>70.300</td>\n",
       "      <td>192.900</td>\n",
       "      <td>3.517</td>\n",
       "      <td>17.200</td>\n",
       "      <td>25.000</td>\n",
       "      <td>3.673</td>\n",
       "      <td>0.0</td>\n",
       "    </tr>\n",
       "    <tr>\n",
       "      <td>3</td>\n",
       "      <td>Acura</td>\n",
       "      <td>RL</td>\n",
       "      <td>8.588</td>\n",
       "      <td>29.725</td>\n",
       "      <td>0.000</td>\n",
       "      <td>42.000</td>\n",
       "      <td>3.500</td>\n",
       "      <td>210.000</td>\n",
       "      <td>114.600</td>\n",
       "      <td>71.400</td>\n",
       "      <td>196.600</td>\n",
       "      <td>3.850</td>\n",
       "      <td>18.000</td>\n",
       "      <td>22.000</td>\n",
       "      <td>2.150</td>\n",
       "      <td>0.0</td>\n",
       "    </tr>\n",
       "    <tr>\n",
       "      <td>4</td>\n",
       "      <td>Audi</td>\n",
       "      <td>A4</td>\n",
       "      <td>20.397</td>\n",
       "      <td>22.255</td>\n",
       "      <td>0.000</td>\n",
       "      <td>23.990</td>\n",
       "      <td>1.800</td>\n",
       "      <td>150.000</td>\n",
       "      <td>102.600</td>\n",
       "      <td>68.200</td>\n",
       "      <td>178.000</td>\n",
       "      <td>2.998</td>\n",
       "      <td>16.400</td>\n",
       "      <td>27.000</td>\n",
       "      <td>3.015</td>\n",
       "      <td>0.0</td>\n",
       "    </tr>\n",
       "    <tr>\n",
       "      <td>5</td>\n",
       "      <td>Audi</td>\n",
       "      <td>A6</td>\n",
       "      <td>18.780</td>\n",
       "      <td>23.555</td>\n",
       "      <td>0.000</td>\n",
       "      <td>33.950</td>\n",
       "      <td>2.800</td>\n",
       "      <td>200.000</td>\n",
       "      <td>108.700</td>\n",
       "      <td>76.100</td>\n",
       "      <td>192.000</td>\n",
       "      <td>3.561</td>\n",
       "      <td>18.500</td>\n",
       "      <td>22.000</td>\n",
       "      <td>2.933</td>\n",
       "      <td>0.0</td>\n",
       "    </tr>\n",
       "    <tr>\n",
       "      <td>...</td>\n",
       "      <td>...</td>\n",
       "      <td>...</td>\n",
       "      <td>...</td>\n",
       "      <td>...</td>\n",
       "      <td>...</td>\n",
       "      <td>...</td>\n",
       "      <td>...</td>\n",
       "      <td>...</td>\n",
       "      <td>...</td>\n",
       "      <td>...</td>\n",
       "      <td>...</td>\n",
       "      <td>...</td>\n",
       "      <td>...</td>\n",
       "      <td>...</td>\n",
       "      <td>...</td>\n",
       "      <td>...</td>\n",
       "    </tr>\n",
       "    <tr>\n",
       "      <td>145</td>\n",
       "      <td>Volkswagen</td>\n",
       "      <td>Golf</td>\n",
       "      <td>9.761</td>\n",
       "      <td>11.425</td>\n",
       "      <td>0.000</td>\n",
       "      <td>14.900</td>\n",
       "      <td>2.000</td>\n",
       "      <td>115.000</td>\n",
       "      <td>98.900</td>\n",
       "      <td>68.300</td>\n",
       "      <td>163.300</td>\n",
       "      <td>2.767</td>\n",
       "      <td>14.500</td>\n",
       "      <td>26.000</td>\n",
       "      <td>2.278</td>\n",
       "      <td>0.0</td>\n",
       "    </tr>\n",
       "    <tr>\n",
       "      <td>146</td>\n",
       "      <td>Volkswagen</td>\n",
       "      <td>Jetta</td>\n",
       "      <td>83.721</td>\n",
       "      <td>13.240</td>\n",
       "      <td>0.000</td>\n",
       "      <td>16.700</td>\n",
       "      <td>2.000</td>\n",
       "      <td>115.000</td>\n",
       "      <td>98.900</td>\n",
       "      <td>68.300</td>\n",
       "      <td>172.300</td>\n",
       "      <td>2.853</td>\n",
       "      <td>14.500</td>\n",
       "      <td>26.000</td>\n",
       "      <td>4.427</td>\n",
       "      <td>0.0</td>\n",
       "    </tr>\n",
       "    <tr>\n",
       "      <td>147</td>\n",
       "      <td>Volkswagen</td>\n",
       "      <td>Passat</td>\n",
       "      <td>51.102</td>\n",
       "      <td>16.725</td>\n",
       "      <td>0.000</td>\n",
       "      <td>21.200</td>\n",
       "      <td>1.800</td>\n",
       "      <td>150.000</td>\n",
       "      <td>106.400</td>\n",
       "      <td>68.500</td>\n",
       "      <td>184.100</td>\n",
       "      <td>3.043</td>\n",
       "      <td>16.400</td>\n",
       "      <td>27.000</td>\n",
       "      <td>3.934</td>\n",
       "      <td>0.0</td>\n",
       "    </tr>\n",
       "    <tr>\n",
       "      <td>148</td>\n",
       "      <td>Volkswagen</td>\n",
       "      <td>Cabrio</td>\n",
       "      <td>9.569</td>\n",
       "      <td>16.575</td>\n",
       "      <td>0.000</td>\n",
       "      <td>19.990</td>\n",
       "      <td>2.000</td>\n",
       "      <td>115.000</td>\n",
       "      <td>97.400</td>\n",
       "      <td>66.700</td>\n",
       "      <td>160.400</td>\n",
       "      <td>3.079</td>\n",
       "      <td>13.700</td>\n",
       "      <td>26.000</td>\n",
       "      <td>2.259</td>\n",
       "      <td>0.0</td>\n",
       "    </tr>\n",
       "    <tr>\n",
       "      <td>149</td>\n",
       "      <td>Volkswagen</td>\n",
       "      <td>GTI</td>\n",
       "      <td>5.596</td>\n",
       "      <td>13.760</td>\n",
       "      <td>0.000</td>\n",
       "      <td>17.500</td>\n",
       "      <td>2.000</td>\n",
       "      <td>115.000</td>\n",
       "      <td>98.900</td>\n",
       "      <td>68.300</td>\n",
       "      <td>163.300</td>\n",
       "      <td>2.762</td>\n",
       "      <td>14.600</td>\n",
       "      <td>26.000</td>\n",
       "      <td>1.722</td>\n",
       "      <td>0.0</td>\n",
       "    </tr>\n",
       "  </tbody>\n",
       "</table>\n",
       "<p>117 rows × 16 columns</p>\n",
       "</div>"
      ],
      "text/plain": [
       "       manufact    model   sales  resale   type   price engine_s horsepow  \\\n",
       "0         Acura  Integra  16.919  16.360  0.000  21.500    1.800  140.000   \n",
       "1         Acura       TL  39.384  19.875  0.000  28.400    3.200  225.000   \n",
       "3         Acura       RL   8.588  29.725  0.000  42.000    3.500  210.000   \n",
       "4          Audi       A4  20.397  22.255  0.000  23.990    1.800  150.000   \n",
       "5          Audi       A6  18.780  23.555  0.000  33.950    2.800  200.000   \n",
       "..          ...      ...     ...     ...    ...     ...      ...      ...   \n",
       "145  Volkswagen     Golf   9.761  11.425  0.000  14.900    2.000  115.000   \n",
       "146  Volkswagen    Jetta  83.721  13.240  0.000  16.700    2.000  115.000   \n",
       "147  Volkswagen   Passat  51.102  16.725  0.000  21.200    1.800  150.000   \n",
       "148  Volkswagen   Cabrio   9.569  16.575  0.000  19.990    2.000  115.000   \n",
       "149  Volkswagen      GTI   5.596  13.760  0.000  17.500    2.000  115.000   \n",
       "\n",
       "    wheelbas   width   length curb_wgt fuel_cap     mpg lnsales  partition  \n",
       "0    101.200  67.300  172.400    2.639   13.200  28.000   2.828        0.0  \n",
       "1    108.100  70.300  192.900    3.517   17.200  25.000   3.673        0.0  \n",
       "3    114.600  71.400  196.600    3.850   18.000  22.000   2.150        0.0  \n",
       "4    102.600  68.200  178.000    2.998   16.400  27.000   3.015        0.0  \n",
       "5    108.700  76.100  192.000    3.561   18.500  22.000   2.933        0.0  \n",
       "..       ...     ...      ...      ...      ...     ...     ...        ...  \n",
       "145   98.900  68.300  163.300    2.767   14.500  26.000   2.278        0.0  \n",
       "146   98.900  68.300  172.300    2.853   14.500  26.000   4.427        0.0  \n",
       "147  106.400  68.500  184.100    3.043   16.400  27.000   3.934        0.0  \n",
       "148   97.400  66.700  160.400    3.079   13.700  26.000   2.259        0.0  \n",
       "149   98.900  68.300  163.300    2.762   14.600  26.000   1.722        0.0  \n",
       "\n",
       "[117 rows x 16 columns]"
      ]
     },
     "execution_count": 23,
     "metadata": {},
     "output_type": "execute_result"
    }
   ],
   "source": [
    "raw_data_drop_rows_1"
   ]
  },
  {
   "cell_type": "markdown",
   "metadata": {},
   "source": [
    "### Normalization\n",
    "Now we can normalize the feature set. __MinMaxScaler__ transforms features by scaling each feature to a given range. It is by default (0, 1). That is, this estimator scales and translates each feature individually such that it is between zero and one."
   ]
  },
  {
   "cell_type": "code",
   "execution_count": 25,
   "metadata": {
    "ExecuteTime": {
     "end_time": "2020-06-17T07:52:47.162909Z",
     "start_time": "2020-06-17T07:52:47.153867Z"
    }
   },
   "outputs": [
    {
     "data": {
      "text/plain": [
       "array([[0.11428571, 0.21518987, 0.18655098, ..., 0.43333333, 0.59235294,\n",
       "        0.        ],\n",
       "       [0.31428571, 0.43037975, 0.3362256 , ..., 0.33333333, 0.69176471,\n",
       "        0.        ],\n",
       "       [0.35714286, 0.39240506, 0.47722343, ..., 0.23333333, 0.51258824,\n",
       "        0.        ],\n",
       "       ...,\n",
       "       [0.11428571, 0.24050633, 0.29934924, ..., 0.4       , 0.72247059,\n",
       "        0.        ],\n",
       "       [0.14285714, 0.15189873, 0.10412148, ..., 0.36666667, 0.52541176,\n",
       "        0.        ],\n",
       "       [0.14285714, 0.15189873, 0.13665944, ..., 0.36666667, 0.46223529,\n",
       "        0.        ]])"
      ]
     },
     "execution_count": 25,
     "metadata": {},
     "output_type": "execute_result"
    }
   ],
   "source": [
    "from sklearn.preprocessing import MinMaxScaler\n",
    "\n",
    "X = raw_data_drop_rows_1.iloc[:,6:].values\n",
    "minmax = MinMaxScaler()\n",
    "X = minmax.fit_transform(X)\n",
    "X"
   ]
  },
  {
   "cell_type": "code",
   "execution_count": 26,
   "metadata": {
    "ExecuteTime": {
     "end_time": "2020-06-17T07:54:01.439010Z",
     "start_time": "2020-06-17T07:54:01.222856Z"
    }
   },
   "outputs": [],
   "source": [
    "import scipy\n",
    "leng = X.shape[0]\n",
    "D = scipy.zeros([leng,leng])\n",
    "for i in range(leng):\n",
    "    for j in range(leng):\n",
    "        D[i,j] = scipy.spatial.distance.euclidean(X[i], X[j])"
   ]
  },
  {
   "cell_type": "code",
   "execution_count": 27,
   "metadata": {
    "ExecuteTime": {
     "end_time": "2020-06-17T07:54:19.604310Z",
     "start_time": "2020-06-17T07:54:19.574000Z"
    }
   },
   "outputs": [
    {
     "name": "stderr",
     "output_type": "stream",
     "text": [
      "C:\\Users\\Arjun Janamatti\\Anaconda3\\lib\\site-packages\\ipykernel_launcher.py:3: ClusterWarning: scipy.cluster: The symmetric non-negative hollow observation matrix looks suspiciously like an uncondensed distance matrix\n",
      "  This is separate from the ipykernel package so we can avoid doing imports until\n"
     ]
    }
   ],
   "source": [
    "import pylab\n",
    "import scipy.cluster.hierarchy\n",
    "Z = hierarchy.linkage(D, 'complete')"
   ]
  },
  {
   "cell_type": "code",
   "execution_count": 28,
   "metadata": {
    "ExecuteTime": {
     "end_time": "2020-06-17T07:54:58.988829Z",
     "start_time": "2020-06-17T07:54:58.978142Z"
    }
   },
   "outputs": [
    {
     "data": {
      "text/plain": [
       "array([ 3,  8,  8,  7,  8,  5,  7,  8,  8,  8,  4,  8,  4,  4,  8,  3,  7,\n",
       "        8,  8,  8,  5,  2, 12,  7,  7,  8,  7,  4,  3,  7,  7, 11, 10,  9,\n",
       "       10,  6,  8,  2,  8,  7,  8,  6,  8,  6,  9,  8, 10,  2,  7,  7,  8,\n",
       "        4,  2,  3,  7,  8,  1,  7,  8,  8,  8,  4,  4,  6,  2,  7,  7,  8,\n",
       "        1,  5,  7,  7,  7,  8,  6,  8,  8,  7,  8,  4,  5,  3,  7,  8,  8,\n",
       "        8,  7,  4,  8,  4,  3,  7,  8,  7,  7,  8,  8,  8,  7,  1,  1,  2,\n",
       "        2,  3,  2,  7,  8,  3,  3,  3,  7,  9,  3,  3,  7,  3,  3],\n",
       "      dtype=int32)"
      ]
     },
     "execution_count": 28,
     "metadata": {},
     "output_type": "execute_result"
    }
   ],
   "source": [
    "from scipy.cluster.hierarchy import fcluster\n",
    "max_d = 3\n",
    "clusters = fcluster(Z, max_d, criterion='distance')\n",
    "clusters"
   ]
  },
  {
   "cell_type": "code",
   "execution_count": 29,
   "metadata": {
    "ExecuteTime": {
     "end_time": "2020-06-17T07:55:15.118904Z",
     "start_time": "2020-06-17T07:55:15.108867Z"
    }
   },
   "outputs": [
    {
     "data": {
      "text/plain": [
       "array([1, 3, 3, 3, 3, 2, 3, 3, 3, 3, 2, 3, 2, 2, 3, 1, 3, 3, 3, 3, 2, 1,\n",
       "       5, 3, 3, 3, 3, 2, 1, 3, 3, 4, 4, 4, 4, 2, 3, 1, 3, 3, 3, 2, 3, 2,\n",
       "       4, 3, 4, 1, 3, 3, 3, 2, 1, 1, 3, 3, 1, 3, 3, 3, 3, 2, 2, 2, 1, 3,\n",
       "       3, 3, 1, 2, 3, 3, 3, 3, 2, 3, 3, 3, 3, 2, 2, 1, 3, 3, 3, 3, 3, 2,\n",
       "       3, 2, 1, 3, 3, 3, 3, 3, 3, 3, 3, 1, 1, 1, 1, 1, 1, 3, 3, 1, 1, 1,\n",
       "       3, 4, 1, 1, 3, 1, 1], dtype=int32)"
      ]
     },
     "execution_count": 29,
     "metadata": {},
     "output_type": "execute_result"
    }
   ],
   "source": [
    "from scipy.cluster.hierarchy import fcluster\n",
    "k = 5\n",
    "clusters = fcluster(Z, k, criterion='maxclust')\n",
    "clusters\n"
   ]
  },
  {
   "cell_type": "code",
   "execution_count": 34,
   "metadata": {
    "ExecuteTime": {
     "end_time": "2020-06-17T09:05:14.020103Z",
     "start_time": "2020-06-17T09:05:14.013777Z"
    }
   },
   "outputs": [],
   "source": [
    "# fig = pylab.figure(figsize=(18,50))\n",
    "# def llf(id):\n",
    "#     return '[%s %s %s]' % (raw_data_drop_rows_1['manufact'][id], raw_data_drop_rows_1['model'][id], int(float(raw_data_drop_rows_1['type'][id])) )\n",
    "    \n",
    "# dendro = hierarchy.dendrogram(Z,  leaf_label_func=llf, leaf_rotation=0, leaf_font_size =12, orientation = 'right')"
   ]
  },
  {
   "cell_type": "code",
   "execution_count": 46,
   "metadata": {
    "ExecuteTime": {
     "end_time": "2020-06-17T09:25:31.937750Z",
     "start_time": "2020-06-17T09:25:31.921125Z"
    }
   },
   "outputs": [],
   "source": [
    "agg_cluster = AgglomerativeClustering(n_clusters=6, linkage='complete')"
   ]
  },
  {
   "cell_type": "code",
   "execution_count": 47,
   "metadata": {
    "ExecuteTime": {
     "end_time": "2020-06-17T09:25:32.503459Z",
     "start_time": "2020-06-17T09:25:32.488637Z"
    }
   },
   "outputs": [
    {
     "data": {
      "text/plain": [
       "AgglomerativeClustering(affinity='euclidean', compute_full_tree='auto',\n",
       "                        connectivity=None, distance_threshold=None,\n",
       "                        linkage='complete', memory=None, n_clusters=6,\n",
       "                        pooling_func='deprecated')"
      ]
     },
     "execution_count": 47,
     "metadata": {},
     "output_type": "execute_result"
    }
   ],
   "source": [
    "agg_cluster.fit(X)"
   ]
  },
  {
   "cell_type": "code",
   "execution_count": 48,
   "metadata": {
    "ExecuteTime": {
     "end_time": "2020-06-17T09:25:33.087754Z",
     "start_time": "2020-06-17T09:25:33.052935Z"
    }
   },
   "outputs": [
    {
     "name": "stderr",
     "output_type": "stream",
     "text": [
      "C:\\Users\\Arjun Janamatti\\Anaconda3\\lib\\site-packages\\ipykernel_launcher.py:1: SettingWithCopyWarning: \n",
      "A value is trying to be set on a copy of a slice from a DataFrame.\n",
      "Try using .loc[row_indexer,col_indexer] = value instead\n",
      "\n",
      "See the caveats in the documentation: http://pandas.pydata.org/pandas-docs/stable/user_guide/indexing.html#returning-a-view-versus-a-copy\n",
      "  \"\"\"Entry point for launching an IPython kernel.\n"
     ]
    },
    {
     "data": {
      "text/html": [
       "<div>\n",
       "<style scoped>\n",
       "    .dataframe tbody tr th:only-of-type {\n",
       "        vertical-align: middle;\n",
       "    }\n",
       "\n",
       "    .dataframe tbody tr th {\n",
       "        vertical-align: top;\n",
       "    }\n",
       "\n",
       "    .dataframe thead th {\n",
       "        text-align: right;\n",
       "    }\n",
       "</style>\n",
       "<table border=\"1\" class=\"dataframe\">\n",
       "  <thead>\n",
       "    <tr style=\"text-align: right;\">\n",
       "      <th></th>\n",
       "      <th>manufact</th>\n",
       "      <th>model</th>\n",
       "      <th>sales</th>\n",
       "      <th>resale</th>\n",
       "      <th>type</th>\n",
       "      <th>price</th>\n",
       "      <th>engine_s</th>\n",
       "      <th>horsepow</th>\n",
       "      <th>wheelbas</th>\n",
       "      <th>width</th>\n",
       "      <th>length</th>\n",
       "      <th>curb_wgt</th>\n",
       "      <th>fuel_cap</th>\n",
       "      <th>mpg</th>\n",
       "      <th>lnsales</th>\n",
       "      <th>partition</th>\n",
       "      <th>cluster</th>\n",
       "    </tr>\n",
       "  </thead>\n",
       "  <tbody>\n",
       "    <tr>\n",
       "      <td>0</td>\n",
       "      <td>Acura</td>\n",
       "      <td>Integra</td>\n",
       "      <td>16.919</td>\n",
       "      <td>16.360</td>\n",
       "      <td>0.000</td>\n",
       "      <td>21.500</td>\n",
       "      <td>1.800</td>\n",
       "      <td>140.000</td>\n",
       "      <td>101.200</td>\n",
       "      <td>67.300</td>\n",
       "      <td>172.400</td>\n",
       "      <td>2.639</td>\n",
       "      <td>13.200</td>\n",
       "      <td>28.000</td>\n",
       "      <td>2.828</td>\n",
       "      <td>0.0</td>\n",
       "      <td>2</td>\n",
       "    </tr>\n",
       "    <tr>\n",
       "      <td>1</td>\n",
       "      <td>Acura</td>\n",
       "      <td>TL</td>\n",
       "      <td>39.384</td>\n",
       "      <td>19.875</td>\n",
       "      <td>0.000</td>\n",
       "      <td>28.400</td>\n",
       "      <td>3.200</td>\n",
       "      <td>225.000</td>\n",
       "      <td>108.100</td>\n",
       "      <td>70.300</td>\n",
       "      <td>192.900</td>\n",
       "      <td>3.517</td>\n",
       "      <td>17.200</td>\n",
       "      <td>25.000</td>\n",
       "      <td>3.673</td>\n",
       "      <td>0.0</td>\n",
       "      <td>1</td>\n",
       "    </tr>\n",
       "    <tr>\n",
       "      <td>3</td>\n",
       "      <td>Acura</td>\n",
       "      <td>RL</td>\n",
       "      <td>8.588</td>\n",
       "      <td>29.725</td>\n",
       "      <td>0.000</td>\n",
       "      <td>42.000</td>\n",
       "      <td>3.500</td>\n",
       "      <td>210.000</td>\n",
       "      <td>114.600</td>\n",
       "      <td>71.400</td>\n",
       "      <td>196.600</td>\n",
       "      <td>3.850</td>\n",
       "      <td>18.000</td>\n",
       "      <td>22.000</td>\n",
       "      <td>2.150</td>\n",
       "      <td>0.0</td>\n",
       "      <td>1</td>\n",
       "    </tr>\n",
       "    <tr>\n",
       "      <td>4</td>\n",
       "      <td>Audi</td>\n",
       "      <td>A4</td>\n",
       "      <td>20.397</td>\n",
       "      <td>22.255</td>\n",
       "      <td>0.000</td>\n",
       "      <td>23.990</td>\n",
       "      <td>1.800</td>\n",
       "      <td>150.000</td>\n",
       "      <td>102.600</td>\n",
       "      <td>68.200</td>\n",
       "      <td>178.000</td>\n",
       "      <td>2.998</td>\n",
       "      <td>16.400</td>\n",
       "      <td>27.000</td>\n",
       "      <td>3.015</td>\n",
       "      <td>0.0</td>\n",
       "      <td>2</td>\n",
       "    </tr>\n",
       "    <tr>\n",
       "      <td>5</td>\n",
       "      <td>Audi</td>\n",
       "      <td>A6</td>\n",
       "      <td>18.780</td>\n",
       "      <td>23.555</td>\n",
       "      <td>0.000</td>\n",
       "      <td>33.950</td>\n",
       "      <td>2.800</td>\n",
       "      <td>200.000</td>\n",
       "      <td>108.700</td>\n",
       "      <td>76.100</td>\n",
       "      <td>192.000</td>\n",
       "      <td>3.561</td>\n",
       "      <td>18.500</td>\n",
       "      <td>22.000</td>\n",
       "      <td>2.933</td>\n",
       "      <td>0.0</td>\n",
       "      <td>1</td>\n",
       "    </tr>\n",
       "    <tr>\n",
       "      <td>...</td>\n",
       "      <td>...</td>\n",
       "      <td>...</td>\n",
       "      <td>...</td>\n",
       "      <td>...</td>\n",
       "      <td>...</td>\n",
       "      <td>...</td>\n",
       "      <td>...</td>\n",
       "      <td>...</td>\n",
       "      <td>...</td>\n",
       "      <td>...</td>\n",
       "      <td>...</td>\n",
       "      <td>...</td>\n",
       "      <td>...</td>\n",
       "      <td>...</td>\n",
       "      <td>...</td>\n",
       "      <td>...</td>\n",
       "      <td>...</td>\n",
       "    </tr>\n",
       "    <tr>\n",
       "      <td>145</td>\n",
       "      <td>Volkswagen</td>\n",
       "      <td>Golf</td>\n",
       "      <td>9.761</td>\n",
       "      <td>11.425</td>\n",
       "      <td>0.000</td>\n",
       "      <td>14.900</td>\n",
       "      <td>2.000</td>\n",
       "      <td>115.000</td>\n",
       "      <td>98.900</td>\n",
       "      <td>68.300</td>\n",
       "      <td>163.300</td>\n",
       "      <td>2.767</td>\n",
       "      <td>14.500</td>\n",
       "      <td>26.000</td>\n",
       "      <td>2.278</td>\n",
       "      <td>0.0</td>\n",
       "      <td>2</td>\n",
       "    </tr>\n",
       "    <tr>\n",
       "      <td>146</td>\n",
       "      <td>Volkswagen</td>\n",
       "      <td>Jetta</td>\n",
       "      <td>83.721</td>\n",
       "      <td>13.240</td>\n",
       "      <td>0.000</td>\n",
       "      <td>16.700</td>\n",
       "      <td>2.000</td>\n",
       "      <td>115.000</td>\n",
       "      <td>98.900</td>\n",
       "      <td>68.300</td>\n",
       "      <td>172.300</td>\n",
       "      <td>2.853</td>\n",
       "      <td>14.500</td>\n",
       "      <td>26.000</td>\n",
       "      <td>4.427</td>\n",
       "      <td>0.0</td>\n",
       "      <td>2</td>\n",
       "    </tr>\n",
       "    <tr>\n",
       "      <td>147</td>\n",
       "      <td>Volkswagen</td>\n",
       "      <td>Passat</td>\n",
       "      <td>51.102</td>\n",
       "      <td>16.725</td>\n",
       "      <td>0.000</td>\n",
       "      <td>21.200</td>\n",
       "      <td>1.800</td>\n",
       "      <td>150.000</td>\n",
       "      <td>106.400</td>\n",
       "      <td>68.500</td>\n",
       "      <td>184.100</td>\n",
       "      <td>3.043</td>\n",
       "      <td>16.400</td>\n",
       "      <td>27.000</td>\n",
       "      <td>3.934</td>\n",
       "      <td>0.0</td>\n",
       "      <td>2</td>\n",
       "    </tr>\n",
       "    <tr>\n",
       "      <td>148</td>\n",
       "      <td>Volkswagen</td>\n",
       "      <td>Cabrio</td>\n",
       "      <td>9.569</td>\n",
       "      <td>16.575</td>\n",
       "      <td>0.000</td>\n",
       "      <td>19.990</td>\n",
       "      <td>2.000</td>\n",
       "      <td>115.000</td>\n",
       "      <td>97.400</td>\n",
       "      <td>66.700</td>\n",
       "      <td>160.400</td>\n",
       "      <td>3.079</td>\n",
       "      <td>13.700</td>\n",
       "      <td>26.000</td>\n",
       "      <td>2.259</td>\n",
       "      <td>0.0</td>\n",
       "      <td>2</td>\n",
       "    </tr>\n",
       "    <tr>\n",
       "      <td>149</td>\n",
       "      <td>Volkswagen</td>\n",
       "      <td>GTI</td>\n",
       "      <td>5.596</td>\n",
       "      <td>13.760</td>\n",
       "      <td>0.000</td>\n",
       "      <td>17.500</td>\n",
       "      <td>2.000</td>\n",
       "      <td>115.000</td>\n",
       "      <td>98.900</td>\n",
       "      <td>68.300</td>\n",
       "      <td>163.300</td>\n",
       "      <td>2.762</td>\n",
       "      <td>14.600</td>\n",
       "      <td>26.000</td>\n",
       "      <td>1.722</td>\n",
       "      <td>0.0</td>\n",
       "      <td>2</td>\n",
       "    </tr>\n",
       "  </tbody>\n",
       "</table>\n",
       "<p>117 rows × 17 columns</p>\n",
       "</div>"
      ],
      "text/plain": [
       "       manufact    model   sales  resale   type   price engine_s horsepow  \\\n",
       "0         Acura  Integra  16.919  16.360  0.000  21.500    1.800  140.000   \n",
       "1         Acura       TL  39.384  19.875  0.000  28.400    3.200  225.000   \n",
       "3         Acura       RL   8.588  29.725  0.000  42.000    3.500  210.000   \n",
       "4          Audi       A4  20.397  22.255  0.000  23.990    1.800  150.000   \n",
       "5          Audi       A6  18.780  23.555  0.000  33.950    2.800  200.000   \n",
       "..          ...      ...     ...     ...    ...     ...      ...      ...   \n",
       "145  Volkswagen     Golf   9.761  11.425  0.000  14.900    2.000  115.000   \n",
       "146  Volkswagen    Jetta  83.721  13.240  0.000  16.700    2.000  115.000   \n",
       "147  Volkswagen   Passat  51.102  16.725  0.000  21.200    1.800  150.000   \n",
       "148  Volkswagen   Cabrio   9.569  16.575  0.000  19.990    2.000  115.000   \n",
       "149  Volkswagen      GTI   5.596  13.760  0.000  17.500    2.000  115.000   \n",
       "\n",
       "    wheelbas   width   length curb_wgt fuel_cap     mpg lnsales  partition  \\\n",
       "0    101.200  67.300  172.400    2.639   13.200  28.000   2.828        0.0   \n",
       "1    108.100  70.300  192.900    3.517   17.200  25.000   3.673        0.0   \n",
       "3    114.600  71.400  196.600    3.850   18.000  22.000   2.150        0.0   \n",
       "4    102.600  68.200  178.000    2.998   16.400  27.000   3.015        0.0   \n",
       "5    108.700  76.100  192.000    3.561   18.500  22.000   2.933        0.0   \n",
       "..       ...     ...      ...      ...      ...     ...     ...        ...   \n",
       "145   98.900  68.300  163.300    2.767   14.500  26.000   2.278        0.0   \n",
       "146   98.900  68.300  172.300    2.853   14.500  26.000   4.427        0.0   \n",
       "147  106.400  68.500  184.100    3.043   16.400  27.000   3.934        0.0   \n",
       "148   97.400  66.700  160.400    3.079   13.700  26.000   2.259        0.0   \n",
       "149   98.900  68.300  163.300    2.762   14.600  26.000   1.722        0.0   \n",
       "\n",
       "     cluster  \n",
       "0          2  \n",
       "1          1  \n",
       "3          1  \n",
       "4          2  \n",
       "5          1  \n",
       "..       ...  \n",
       "145        2  \n",
       "146        2  \n",
       "147        2  \n",
       "148        2  \n",
       "149        2  \n",
       "\n",
       "[117 rows x 17 columns]"
      ]
     },
     "execution_count": 48,
     "metadata": {},
     "output_type": "execute_result"
    }
   ],
   "source": [
    "raw_data_drop_rows_1['cluster'] = agg_cluster.labels_\n",
    "raw_data_drop_rows_1"
   ]
  },
  {
   "cell_type": "code",
   "execution_count": 65,
   "metadata": {
    "ExecuteTime": {
     "end_time": "2020-06-17T09:35:53.068905Z",
     "start_time": "2020-06-17T09:35:53.060292Z"
    }
   },
   "outputs": [
    {
     "name": "stdout",
     "output_type": "stream",
     "text": [
      "<class 'pandas.core.frame.DataFrame'>\n",
      "Int64Index: 117 entries, 0 to 149\n",
      "Data columns (total 17 columns):\n",
      "manufact     117 non-null object\n",
      "model        117 non-null object\n",
      "sales        117 non-null object\n",
      "resale       117 non-null object\n",
      "type         117 non-null object\n",
      "price        117 non-null object\n",
      "engine_s     117 non-null object\n",
      "horsepow     117 non-null object\n",
      "wheelbas     117 non-null object\n",
      "width        117 non-null object\n",
      "length       117 non-null object\n",
      "curb_wgt     117 non-null object\n",
      "fuel_cap     117 non-null object\n",
      "mpg          117 non-null object\n",
      "lnsales      117 non-null object\n",
      "partition    117 non-null float64\n",
      "cluster      117 non-null int64\n",
      "dtypes: float64(1), int64(1), object(15)\n",
      "memory usage: 21.5+ KB\n"
     ]
    }
   ],
   "source": [
    "raw_data_drop_rows_1.info()"
   ]
  },
  {
   "cell_type": "markdown",
   "metadata": {},
   "source": [
    "* Since integers and float are described as object in the pandas columns, hence we will convert them to numeric in the below operation"
   ]
  },
  {
   "cell_type": "code",
   "execution_count": 62,
   "metadata": {
    "ExecuteTime": {
     "end_time": "2020-06-17T09:34:52.778810Z",
     "start_time": "2020-06-17T09:34:52.765987Z"
    }
   },
   "outputs": [],
   "source": [
    "raw_data_drop_rows_2 = raw_data_drop_rows_1.iloc[:,6:].apply(pd.to_numeric, errors='coerce')"
   ]
  },
  {
   "cell_type": "code",
   "execution_count": 67,
   "metadata": {
    "ExecuteTime": {
     "end_time": "2020-06-17T09:36:52.674586Z",
     "start_time": "2020-06-17T09:36:52.542943Z"
    }
   },
   "outputs": [
    {
     "data": {
      "image/png": "[encoded data removed]",
      "text/plain": [
       "<Figure size 360x360 with 1 Axes>"
      ]
     },
     "metadata": {
      "needs_background": "light"
     },
     "output_type": "display_data"
    }
   ],
   "source": [
    "import seaborn as sns\n",
    "\n",
    "sns.lmplot('wheelbas', 'mpg', \n",
    "           data=raw_data_drop_rows_2, \n",
    "           fit_reg=False, \n",
    "           scatter_kws={\"marker\": \"D\", \n",
    "                        \"s\": 25})\n",
    "# plt.scatter(raw_data['Age'], raw_data[\"Income\"], h)\n",
    "plt.title(\"Before cluster\")\n",
    "plt.xlabel(\"wheelbas\")\n",
    "plt.ylabel(\"mpg\")\n",
    "plt.show()"
   ]
  },
  {
   "cell_type": "code",
   "execution_count": 66,
   "metadata": {
    "ExecuteTime": {
     "end_time": "2020-06-17T09:36:45.764072Z",
     "start_time": "2020-06-17T09:36:45.532073Z"
    }
   },
   "outputs": [
    {
     "data": {
      "image/png": "[encoded data removed]",
      "text/plain": [
       "<Figure size 402.375x360 with 1 Axes>"
      ]
     },
     "metadata": {
      "needs_background": "light"
     },
     "output_type": "display_data"
    }
   ],
   "source": [
    "import seaborn as sns\n",
    "\n",
    "sns.lmplot('wheelbas', 'mpg', \n",
    "           data=raw_data_drop_rows_2, \n",
    "           fit_reg=False, \n",
    "           hue='cluster',\n",
    "           scatter_kws={\"marker\": \"D\", \n",
    "                        \"s\": 25})\n",
    "# plt.scatter(raw_data['Age'], raw_data[\"Income\"], h)\n",
    "plt.title(\"After cluster\")\n",
    "plt.xlabel(\"wheelbas\")\n",
    "plt.ylabel(\"mpg\")\n",
    "plt.show()"
   ]
  },
  {
   "cell_type": "code",
   "execution_count": 76,
   "metadata": {
    "ExecuteTime": {
     "end_time": "2020-06-17T10:43:21.350823Z",
     "start_time": "2020-06-17T10:43:21.343411Z"
    }
   },
   "outputs": [
    {
     "name": "stdout",
     "output_type": "stream",
     "text": [
      "[[0.         0.58626148 0.75876154 ... 0.31357356 0.25800778 0.22929462]\n",
      " [0.58626148 0.         0.28997132 ... 0.36218153 0.68400399 0.66301108]\n",
      " [0.75876154 0.28997132 0.         ... 0.55823561 0.81796147 0.78092622]\n",
      " ...\n",
      " [0.31357356 0.36218153 0.55823561 ... 0.         0.46210264 0.4419477 ]\n",
      " [0.25800778 0.68400399 0.81796147 ... 0.46210264 0.         0.16471904]\n",
      " [0.22929462 0.66301108 0.78092622 ... 0.4419477  0.16471904 0.        ]]\n"
     ]
    }
   ],
   "source": [
    "dist_matrix = distance_matrix(X,X) \n",
    "print(dist_matrix)"
   ]
  },
  {
   "cell_type": "code",
   "execution_count": 69,
   "metadata": {
    "ExecuteTime": {
     "end_time": "2020-06-17T10:20:33.823117Z",
     "start_time": "2020-06-17T10:20:33.812696Z"
    }
   },
   "outputs": [
    {
     "name": "stderr",
     "output_type": "stream",
     "text": [
      "C:\\Users\\Arjun Janamatti\\Anaconda3\\lib\\site-packages\\ipykernel_launcher.py:1: ClusterWarning: scipy.cluster: The symmetric non-negative hollow observation matrix looks suspiciously like an uncondensed distance matrix\n",
      "  \"\"\"Entry point for launching an IPython kernel.\n"
     ]
    }
   ],
   "source": [
    "Z = hierarchy.linkage(dist_matrix, 'complete')"
   ]
  },
  {
   "cell_type": "code",
   "execution_count": 72,
   "metadata": {
    "ExecuteTime": {
     "end_time": "2020-06-17T10:22:00.531577Z",
     "start_time": "2020-06-17T10:21:59.964122Z"
    }
   },
   "outputs": [
    {
     "data": {
      "image/png": "[encoded data removed]",
      "text/plain": [
       "<Figure size 432x288 with 1 Axes>"
      ]
     },
     "metadata": {
      "needs_background": "light"
     },
     "output_type": "display_data"
    }
   ],
   "source": [
    "dendro = hierarchy.dendrogram(Z, orientation='right')"
   ]
  },
  {
   "cell_type": "code",
   "execution_count": 89,
   "metadata": {
    "ExecuteTime": {
     "end_time": "2020-06-17T10:51:30.063322Z",
     "start_time": "2020-06-17T10:51:29.504602Z"
    }
   },
   "outputs": [
    {
     "name": "stderr",
     "output_type": "stream",
     "text": [
      "'c' argument looks like a single numeric RGB or RGBA sequence, which should be avoided as value-mapping will have precedence in case its length matches with 'x' & 'y'.  Please use a 2-D array with a single row if you really want to specify the same RGB or RGBA value for all points.\n",
      "'c' argument looks like a single numeric RGB or RGBA sequence, which should be avoided as value-mapping will have precedence in case its length matches with 'x' & 'y'.  Please use a 2-D array with a single row if you really want to specify the same RGB or RGBA value for all points.\n",
      "'c' argument looks like a single numeric RGB or RGBA sequence, which should be avoided as value-mapping will have precedence in case its length matches with 'x' & 'y'.  Please use a 2-D array with a single row if you really want to specify the same RGB or RGBA value for all points.\n",
      "'c' argument looks like a single numeric RGB or RGBA sequence, which should be avoided as value-mapping will have precedence in case its length matches with 'x' & 'y'.  Please use a 2-D array with a single row if you really want to specify the same RGB or RGBA value for all points.\n",
      "'c' argument looks like a single numeric RGB or RGBA sequence, which should be avoided as value-mapping will have precedence in case its length matches with 'x' & 'y'.  Please use a 2-D array with a single row if you really want to specify the same RGB or RGBA value for all points.\n"
     ]
    },
    {
     "data": {
      "text/plain": [
       "Text(0, 0.5, 'mpg')"
      ]
     },
     "execution_count": 89,
     "metadata": {},
     "output_type": "execute_result"
    },
    {
     "data": {
      "image/png": "[encoded data removed]",
      "text/plain": [
       "<Figure size 1152x1008 with 1 Axes>"
      ]
     },
     "metadata": {
      "needs_background": "light"
     },
     "output_type": "display_data"
    }
   ],
   "source": [
    "import matplotlib.cm as cm\n",
    "n_clusters = max(agg_cluster.labels_)+1\n",
    "colors = cm.rainbow(np.linspace(0, 1, n_clusters))\n",
    "cluster_labels = list(range(0, n_clusters))\n",
    "\n",
    "# Create a figure of size 6 inches by 4 inches.\n",
    "plt.figure(figsize=(16,14))\n",
    "\n",
    "for color, label in zip(colors, cluster_labels):\n",
    "    subset = raw_data_drop_rows_1[raw_data_drop_rows_1.cluster == label]\n",
    "    for i in subset.index:\n",
    "            plt.text(subset.horsepow[i], subset.mpg[i],str(subset['model'][i]), rotation=25) \n",
    "    plt.scatter(subset.horsepow, subset.mpg, s= subset.price*10, c=color, label='cluster'+str(label),alpha=0.5)\n",
    "#    plt.scatter(subset.horsepow, subset.mpg)\n",
    "plt.legend()\n",
    "plt.title('Clusters')\n",
    "plt.xlabel('horsepow')\n",
    "plt.ylabel('mpg')"
   ]
  },
  {
   "cell_type": "code",
   "execution_count": 86,
   "metadata": {
    "ExecuteTime": {
     "end_time": "2020-06-17T10:51:06.058157Z",
     "start_time": "2020-06-17T10:51:06.004361Z"
    }
   },
   "outputs": [
    {
     "name": "stderr",
     "output_type": "stream",
     "text": [
      "C:\\Users\\Arjun Janamatti\\Anaconda3\\lib\\site-packages\\pandas\\core\\indexing.py:494: SettingWithCopyWarning: \n",
      "A value is trying to be set on a copy of a slice from a DataFrame.\n",
      "Try using .loc[row_indexer,col_indexer] = value instead\n",
      "\n",
      "See the caveats in the documentation: http://pandas.pydata.org/pandas-docs/stable/user_guide/indexing.html#returning-a-view-versus-a-copy\n",
      "  self.obj[item] = s\n"
     ]
    }
   ],
   "source": [
    "raw_data_drop_rows_1.iloc[:,2:] = raw_data_drop_rows_1.iloc[:,2:].apply(pd.to_numeric, errors='coerce')"
   ]
  },
  {
   "cell_type": "code",
   "execution_count": 87,
   "metadata": {
    "ExecuteTime": {
     "end_time": "2020-06-17T10:51:08.293219Z",
     "start_time": "2020-06-17T10:51:08.272077Z"
    }
   },
   "outputs": [
    {
     "name": "stdout",
     "output_type": "stream",
     "text": [
      "<class 'pandas.core.frame.DataFrame'>\n",
      "Int64Index: 117 entries, 0 to 149\n",
      "Data columns (total 17 columns):\n",
      "manufact     117 non-null object\n",
      "model        117 non-null object\n",
      "sales        117 non-null float64\n",
      "resale       117 non-null float64\n",
      "type         117 non-null float64\n",
      "price        117 non-null float64\n",
      "engine_s     117 non-null float64\n",
      "horsepow     117 non-null float64\n",
      "wheelbas     117 non-null float64\n",
      "width        117 non-null float64\n",
      "length       117 non-null float64\n",
      "curb_wgt     117 non-null float64\n",
      "fuel_cap     117 non-null float64\n",
      "mpg          117 non-null float64\n",
      "lnsales      117 non-null float64\n",
      "partition    117 non-null float64\n",
      "cluster      117 non-null int64\n",
      "dtypes: float64(14), int64(1), object(2)\n",
      "memory usage: 21.5+ KB\n"
     ]
    }
   ],
   "source": [
    "raw_data_drop_rows_1.info()"
   ]
  },
  {
   "cell_type": "code",
   "execution_count": null,
   "metadata": {},
   "outputs": [],
   "source": []
  }
 ],
 "metadata": {
  "kernelspec": {
   "display_name": "Python 3",
   "language": "python",
   "name": "python3"
  },
  "language_info": {
   "codemirror_mode": {
    "name": "ipython",
    "version": 3
   },
   "file_extension": ".py",
   "mimetype": "text/x-python",
   "name": "python",
   "nbconvert_exporter": "python",
   "pygments_lexer": "ipython3",
   "version": "3.7.4"
  },
  "varInspector": {
   "cols": {
    "lenName": 16,
    "lenType": 16,
    "lenVar": 40
   },
   "kernels_config": {
    "python": {
     "delete_cmd_postfix": "",
     "delete_cmd_prefix": "del ",
     "library": "var_list.py",
     "varRefreshCmd": "print(var_dic_list())"
    },
    "r": {
     "delete_cmd_postfix": ") ",
     "delete_cmd_prefix": "rm(",
     "library": "var_list.r",
     "varRefreshCmd": "cat(var_dic_list()) "
    }
   },
   "types_to_exclude": [
    "module",
    "function",
    "builtin_function_or_method",
    "instance",
    "_Feature"
   ],
   "window_display": false
  }
 },
 "nbformat": 4,
 "nbformat_minor": 2
}
