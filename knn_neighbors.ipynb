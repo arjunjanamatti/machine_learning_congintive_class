{
 "cells": [
  {
   "cell_type": "code",
   "execution_count": 48,
   "metadata": {
    "ExecuteTime": {
     "end_time": "2020-06-15T10:47:40.946745Z",
     "start_time": "2020-06-15T10:47:40.938748Z"
    }
   },
   "outputs": [],
   "source": [
    "import itertools\n",
    "import numpy as np\n",
    "import matplotlib.pyplot as plt\n",
    "from matplotlib.ticker import NullFormatter\n",
    "import pandas as pd\n",
    "import numpy as np\n",
    "import matplotlib.ticker as ticker\n",
    "from sklearn.preprocessing import StandardScaler\n",
    "from sklearn.model_selection import train_test_split\n",
    "%matplotlib inline"
   ]
  },
  {
   "cell_type": "markdown",
   "metadata": {
    "ExecuteTime": {
     "end_time": "2020-06-15T10:15:08.213813Z",
     "start_time": "2020-06-15T10:15:08.207812Z"
    }
   },
   "source": [
    "### About dataset"
   ]
  },
  {
   "cell_type": "markdown",
   "metadata": {
    "ExecuteTime": {
     "end_time": "2020-06-15T10:15:47.831010Z",
     "start_time": "2020-06-15T10:15:47.828010Z"
    }
   },
   "source": [
    "Imagine a telecommunications provider has segmented its customer base by service usage patterns, categorizing the customers into four groups. If demographic data can be used to predict group membership, the company can customize offers for individual prospective customers. It is a classification problem. That is, given the dataset,  with predefined labels, we need to build a model to be used to predict class of a new or unknown case. \n",
    "\n",
    "The example focuses on using demographic data, such as region, age, and marital, to predict usage patterns. \n",
    "\n",
    "The target field, called __custcat__, has four possible values that correspond to the four customer groups, as follows:\n",
    "  1- Basic Service\n",
    "  2- E-Service\n",
    "  3- Plus Service\n",
    "  4- Total Service\n",
    "\n",
    "Our objective is to build a classifier, to predict the class of unknown cases. We will use a specific type of classification called K nearest neighbour.\n"
   ]
  },
  {
   "cell_type": "code",
   "execution_count": 6,
   "metadata": {
    "ExecuteTime": {
     "end_time": "2020-06-15T10:19:16.029787Z",
     "start_time": "2020-06-15T10:19:15.998687Z"
    }
   },
   "outputs": [
    {
     "data": {
      "text/html": [
       "<div>\n",
       "<style scoped>\n",
       "    .dataframe tbody tr th:only-of-type {\n",
       "        vertical-align: middle;\n",
       "    }\n",
       "\n",
       "    .dataframe tbody tr th {\n",
       "        vertical-align: top;\n",
       "    }\n",
       "\n",
       "    .dataframe thead th {\n",
       "        text-align: right;\n",
       "    }\n",
       "</style>\n",
       "<table border=\"1\" class=\"dataframe\">\n",
       "  <thead>\n",
       "    <tr style=\"text-align: right;\">\n",
       "      <th></th>\n",
       "      <th>region</th>\n",
       "      <th>tenure</th>\n",
       "      <th>age</th>\n",
       "      <th>marital</th>\n",
       "      <th>address</th>\n",
       "      <th>income</th>\n",
       "      <th>ed</th>\n",
       "      <th>employ</th>\n",
       "      <th>retire</th>\n",
       "      <th>gender</th>\n",
       "      <th>reside</th>\n",
       "      <th>custcat</th>\n",
       "    </tr>\n",
       "  </thead>\n",
       "  <tbody>\n",
       "    <tr>\n",
       "      <th>0</th>\n",
       "      <td>2</td>\n",
       "      <td>13</td>\n",
       "      <td>44</td>\n",
       "      <td>1</td>\n",
       "      <td>9</td>\n",
       "      <td>64.0</td>\n",
       "      <td>4</td>\n",
       "      <td>5</td>\n",
       "      <td>0.0</td>\n",
       "      <td>0</td>\n",
       "      <td>2</td>\n",
       "      <td>1</td>\n",
       "    </tr>\n",
       "    <tr>\n",
       "      <th>1</th>\n",
       "      <td>3</td>\n",
       "      <td>11</td>\n",
       "      <td>33</td>\n",
       "      <td>1</td>\n",
       "      <td>7</td>\n",
       "      <td>136.0</td>\n",
       "      <td>5</td>\n",
       "      <td>5</td>\n",
       "      <td>0.0</td>\n",
       "      <td>0</td>\n",
       "      <td>6</td>\n",
       "      <td>4</td>\n",
       "    </tr>\n",
       "    <tr>\n",
       "      <th>2</th>\n",
       "      <td>3</td>\n",
       "      <td>68</td>\n",
       "      <td>52</td>\n",
       "      <td>1</td>\n",
       "      <td>24</td>\n",
       "      <td>116.0</td>\n",
       "      <td>1</td>\n",
       "      <td>29</td>\n",
       "      <td>0.0</td>\n",
       "      <td>1</td>\n",
       "      <td>2</td>\n",
       "      <td>3</td>\n",
       "    </tr>\n",
       "    <tr>\n",
       "      <th>3</th>\n",
       "      <td>2</td>\n",
       "      <td>33</td>\n",
       "      <td>33</td>\n",
       "      <td>0</td>\n",
       "      <td>12</td>\n",
       "      <td>33.0</td>\n",
       "      <td>2</td>\n",
       "      <td>0</td>\n",
       "      <td>0.0</td>\n",
       "      <td>1</td>\n",
       "      <td>1</td>\n",
       "      <td>1</td>\n",
       "    </tr>\n",
       "    <tr>\n",
       "      <th>4</th>\n",
       "      <td>2</td>\n",
       "      <td>23</td>\n",
       "      <td>30</td>\n",
       "      <td>1</td>\n",
       "      <td>9</td>\n",
       "      <td>30.0</td>\n",
       "      <td>1</td>\n",
       "      <td>2</td>\n",
       "      <td>0.0</td>\n",
       "      <td>0</td>\n",
       "      <td>4</td>\n",
       "      <td>3</td>\n",
       "    </tr>\n",
       "    <tr>\n",
       "      <th>...</th>\n",
       "      <td>...</td>\n",
       "      <td>...</td>\n",
       "      <td>...</td>\n",
       "      <td>...</td>\n",
       "      <td>...</td>\n",
       "      <td>...</td>\n",
       "      <td>...</td>\n",
       "      <td>...</td>\n",
       "      <td>...</td>\n",
       "      <td>...</td>\n",
       "      <td>...</td>\n",
       "      <td>...</td>\n",
       "    </tr>\n",
       "    <tr>\n",
       "      <th>995</th>\n",
       "      <td>3</td>\n",
       "      <td>10</td>\n",
       "      <td>39</td>\n",
       "      <td>0</td>\n",
       "      <td>0</td>\n",
       "      <td>27.0</td>\n",
       "      <td>3</td>\n",
       "      <td>0</td>\n",
       "      <td>0.0</td>\n",
       "      <td>1</td>\n",
       "      <td>3</td>\n",
       "      <td>1</td>\n",
       "    </tr>\n",
       "    <tr>\n",
       "      <th>996</th>\n",
       "      <td>1</td>\n",
       "      <td>7</td>\n",
       "      <td>34</td>\n",
       "      <td>0</td>\n",
       "      <td>2</td>\n",
       "      <td>22.0</td>\n",
       "      <td>5</td>\n",
       "      <td>5</td>\n",
       "      <td>0.0</td>\n",
       "      <td>1</td>\n",
       "      <td>1</td>\n",
       "      <td>1</td>\n",
       "    </tr>\n",
       "    <tr>\n",
       "      <th>997</th>\n",
       "      <td>3</td>\n",
       "      <td>67</td>\n",
       "      <td>59</td>\n",
       "      <td>0</td>\n",
       "      <td>40</td>\n",
       "      <td>944.0</td>\n",
       "      <td>5</td>\n",
       "      <td>33</td>\n",
       "      <td>0.0</td>\n",
       "      <td>1</td>\n",
       "      <td>1</td>\n",
       "      <td>4</td>\n",
       "    </tr>\n",
       "    <tr>\n",
       "      <th>998</th>\n",
       "      <td>3</td>\n",
       "      <td>70</td>\n",
       "      <td>49</td>\n",
       "      <td>0</td>\n",
       "      <td>18</td>\n",
       "      <td>87.0</td>\n",
       "      <td>2</td>\n",
       "      <td>22</td>\n",
       "      <td>0.0</td>\n",
       "      <td>1</td>\n",
       "      <td>1</td>\n",
       "      <td>3</td>\n",
       "    </tr>\n",
       "    <tr>\n",
       "      <th>999</th>\n",
       "      <td>3</td>\n",
       "      <td>50</td>\n",
       "      <td>36</td>\n",
       "      <td>1</td>\n",
       "      <td>7</td>\n",
       "      <td>39.0</td>\n",
       "      <td>3</td>\n",
       "      <td>3</td>\n",
       "      <td>0.0</td>\n",
       "      <td>1</td>\n",
       "      <td>3</td>\n",
       "      <td>2</td>\n",
       "    </tr>\n",
       "  </tbody>\n",
       "</table>\n",
       "<p>1000 rows × 12 columns</p>\n",
       "</div>"
      ],
      "text/plain": [
       "     region  tenure  age  marital  address  income  ed  employ  retire  \\\n",
       "0         2      13   44        1        9    64.0   4       5     0.0   \n",
       "1         3      11   33        1        7   136.0   5       5     0.0   \n",
       "2         3      68   52        1       24   116.0   1      29     0.0   \n",
       "3         2      33   33        0       12    33.0   2       0     0.0   \n",
       "4         2      23   30        1        9    30.0   1       2     0.0   \n",
       "..      ...     ...  ...      ...      ...     ...  ..     ...     ...   \n",
       "995       3      10   39        0        0    27.0   3       0     0.0   \n",
       "996       1       7   34        0        2    22.0   5       5     0.0   \n",
       "997       3      67   59        0       40   944.0   5      33     0.0   \n",
       "998       3      70   49        0       18    87.0   2      22     0.0   \n",
       "999       3      50   36        1        7    39.0   3       3     0.0   \n",
       "\n",
       "     gender  reside  custcat  \n",
       "0         0       2        1  \n",
       "1         0       6        4  \n",
       "2         1       2        3  \n",
       "3         1       1        1  \n",
       "4         0       4        3  \n",
       "..      ...     ...      ...  \n",
       "995       1       3        1  \n",
       "996       1       1        1  \n",
       "997       1       1        4  \n",
       "998       1       1        3  \n",
       "999       1       3        2  \n",
       "\n",
       "[1000 rows x 12 columns]"
      ]
     },
     "execution_count": 6,
     "metadata": {},
     "output_type": "execute_result"
    }
   ],
   "source": [
    "raw_data = pd.read_csv(\"teleCust1000t.csv\")\n",
    "raw_data"
   ]
  },
  {
   "cell_type": "code",
   "execution_count": 13,
   "metadata": {
    "ExecuteTime": {
     "end_time": "2020-06-15T10:22:07.118079Z",
     "start_time": "2020-06-15T10:22:07.110080Z"
    }
   },
   "outputs": [
    {
     "data": {
      "text/plain": [
       "region     1000\n",
       "tenure     1000\n",
       "age        1000\n",
       "marital    1000\n",
       "address    1000\n",
       "income     1000\n",
       "ed         1000\n",
       "employ     1000\n",
       "retire     1000\n",
       "gender     1000\n",
       "reside     1000\n",
       "custcat    1000\n",
       "dtype: int64"
      ]
     },
     "execution_count": 13,
     "metadata": {},
     "output_type": "execute_result"
    }
   ],
   "source": [
    "# check for null values\n",
    "raw_data.isna().count()"
   ]
  },
  {
   "cell_type": "markdown",
   "metadata": {},
   "source": [
    "### Data visualization"
   ]
  },
  {
   "cell_type": "code",
   "execution_count": 16,
   "metadata": {
    "ExecuteTime": {
     "end_time": "2020-06-15T10:23:44.958465Z",
     "start_time": "2020-06-15T10:23:44.927369Z"
    }
   },
   "outputs": [
    {
     "name": "stdout",
     "output_type": "stream",
     "text": [
      "3    344\n",
      "2    334\n",
      "1    322\n",
      "Name: region, dtype: int64\n",
      "\n",
      "72    31\n",
      "3     20\n",
      "24    20\n",
      "48    20\n",
      "13    19\n",
      "      ..\n",
      "47     7\n",
      "2      7\n",
      "36     7\n",
      "21     6\n",
      "63     6\n",
      "Name: tenure, Length: 72, dtype: int64\n",
      "\n",
      "33    39\n",
      "39    35\n",
      "35    34\n",
      "34    32\n",
      "31    32\n",
      "37    31\n",
      "40    28\n",
      "42    28\n",
      "30    26\n",
      "52    25\n",
      "36    25\n",
      "45    24\n",
      "46    24\n",
      "27    24\n",
      "43    24\n",
      "48    24\n",
      "54    24\n",
      "41    24\n",
      "50    23\n",
      "25    23\n",
      "51    23\n",
      "28    22\n",
      "38    21\n",
      "32    21\n",
      "26    21\n",
      "47    21\n",
      "55    21\n",
      "24    20\n",
      "57    20\n",
      "44    20\n",
      "29    19\n",
      "53    19\n",
      "49    18\n",
      "23    16\n",
      "22    15\n",
      "59    14\n",
      "63    12\n",
      "56    11\n",
      "60    11\n",
      "61    11\n",
      "20    10\n",
      "64    10\n",
      "58    10\n",
      "62     9\n",
      "21     8\n",
      "66     7\n",
      "68     6\n",
      "69     6\n",
      "65     6\n",
      "67     5\n",
      "19     4\n",
      "76     3\n",
      "70     3\n",
      "75     2\n",
      "77     1\n",
      "71     1\n",
      "72     1\n",
      "73     1\n",
      "74     1\n",
      "18     1\n",
      "Name: age, dtype: int64\n",
      "\n",
      "0    505\n",
      "1    495\n",
      "Name: marital, dtype: int64\n",
      "\n",
      "1     68\n",
      "2     66\n",
      "3     61\n",
      "4     61\n",
      "0     56\n",
      "7     53\n",
      "5     50\n",
      "9     41\n",
      "8     39\n",
      "10    38\n",
      "6     36\n",
      "12    36\n",
      "13    33\n",
      "19    29\n",
      "15    24\n",
      "14    24\n",
      "11    23\n",
      "17    22\n",
      "18    20\n",
      "20    20\n",
      "21    20\n",
      "27    16\n",
      "23    15\n",
      "22    15\n",
      "16    14\n",
      "24    12\n",
      "26    12\n",
      "28    12\n",
      "25    12\n",
      "30    11\n",
      "29     8\n",
      "31     6\n",
      "34     6\n",
      "32     5\n",
      "33     5\n",
      "38     5\n",
      "37     3\n",
      "39     3\n",
      "43     3\n",
      "40     3\n",
      "44     3\n",
      "36     2\n",
      "35     2\n",
      "48     1\n",
      "46     1\n",
      "45     1\n",
      "49     1\n",
      "42     1\n",
      "41     1\n",
      "55     1\n",
      "Name: address, dtype: int64\n",
      "\n",
      "25.0     24\n",
      "26.0     22\n",
      "41.0     22\n",
      "33.0     20\n",
      "46.0     19\n",
      "         ..\n",
      "214.0     1\n",
      "508.0     1\n",
      "130.0     1\n",
      "928.0     1\n",
      "591.0     1\n",
      "Name: income, Length: 218, dtype: int64\n",
      "\n",
      "2    287\n",
      "4    234\n",
      "3    209\n",
      "1    204\n",
      "5     66\n",
      "Name: ed, dtype: int64\n",
      "\n",
      "0     106\n",
      "1      66\n",
      "2      59\n",
      "5      54\n",
      "4      52\n",
      "3      50\n",
      "7      48\n",
      "6      44\n",
      "9      39\n",
      "8      38\n",
      "11     34\n",
      "12     32\n",
      "10     30\n",
      "15     30\n",
      "13     28\n",
      "21     22\n",
      "18     20\n",
      "20     20\n",
      "22     20\n",
      "19     19\n",
      "25     17\n",
      "16     17\n",
      "17     16\n",
      "24     14\n",
      "23     14\n",
      "14     13\n",
      "27     10\n",
      "31      9\n",
      "35      9\n",
      "29      9\n",
      "26      8\n",
      "30      8\n",
      "33      7\n",
      "28      5\n",
      "37      5\n",
      "34      4\n",
      "36      4\n",
      "32      3\n",
      "39      3\n",
      "40      3\n",
      "43      3\n",
      "45      2\n",
      "41      2\n",
      "44      2\n",
      "38      1\n",
      "47      1\n",
      "Name: employ, dtype: int64\n",
      "\n",
      "0.0    953\n",
      "1.0     47\n",
      "Name: retire, dtype: int64\n",
      "\n",
      "1    517\n",
      "0    483\n",
      "Name: gender, dtype: int64\n",
      "\n",
      "1    375\n",
      "2    272\n",
      "3    138\n",
      "4    120\n",
      "5     60\n",
      "6     29\n",
      "7      4\n",
      "8      2\n",
      "Name: reside, dtype: int64\n",
      "\n",
      "3    281\n",
      "1    266\n",
      "4    236\n",
      "2    217\n",
      "Name: custcat, dtype: int64\n",
      "\n"
     ]
    }
   ],
   "source": [
    "for i in range(len(raw_data.columns)):\n",
    "    print(raw_data[raw_data.columns[i]].value_counts())\n",
    "    print()"
   ]
  },
  {
   "cell_type": "code",
   "execution_count": 17,
   "metadata": {
    "ExecuteTime": {
     "end_time": "2020-06-15T10:25:13.615779Z",
     "start_time": "2020-06-15T10:25:13.382356Z"
    }
   },
   "outputs": [
    {
     "data": {
      "text/plain": [
       "array([[<matplotlib.axes._subplots.AxesSubplot object at 0x000001E3C7CDD608>]],\n",
       "      dtype=object)"
      ]
     },
     "execution_count": 17,
     "metadata": {},
     "output_type": "execute_result"
    },
    {
     "data": {
      "image/png": "[encoded data removed]",
      "text/plain": [
       "<Figure size 432x288 with 1 Axes>"
      ]
     },
     "metadata": {
      "needs_background": "light"
     },
     "output_type": "display_data"
    }
   ],
   "source": [
    "raw_data.hist(column='income', bins=50)"
   ]
  },
  {
   "cell_type": "markdown",
   "metadata": {},
   "source": [
    "* To use scikit-learn library, we have to convert the Pandas data frame to a Numpy array:"
   ]
  },
  {
   "cell_type": "code",
   "execution_count": 40,
   "metadata": {
    "ExecuteTime": {
     "end_time": "2020-06-15T10:41:54.644333Z",
     "start_time": "2020-06-15T10:41:54.635334Z"
    }
   },
   "outputs": [
    {
     "data": {
      "text/plain": [
       "array([[ 2., 13., 44., ...,  0.,  0.,  2.],\n",
       "       [ 3., 11., 33., ...,  0.,  0.,  6.],\n",
       "       [ 3., 68., 52., ...,  0.,  1.,  2.],\n",
       "       ...,\n",
       "       [ 3., 67., 59., ...,  0.,  1.,  1.],\n",
       "       [ 3., 70., 49., ...,  0.,  1.,  1.],\n",
       "       [ 3., 50., 36., ...,  0.,  1.,  3.]])"
      ]
     },
     "execution_count": 40,
     "metadata": {},
     "output_type": "execute_result"
    }
   ],
   "source": [
    "X = raw_data.iloc[:,:-1].values\n",
    "y = raw_data.iloc[:,-1].values\n",
    "X"
   ]
  },
  {
   "cell_type": "markdown",
   "metadata": {},
   "source": [
    "### Normalize Data\n",
    "\n",
    "Data Standardization give data zero mean and unit variance, it is good practice, especially for algorithms such as KNN which is based on distance of cases:"
   ]
  },
  {
   "cell_type": "code",
   "execution_count": 52,
   "metadata": {
    "ExecuteTime": {
     "end_time": "2020-06-15T11:01:53.793989Z",
     "start_time": "2020-06-15T11:01:53.787980Z"
    }
   },
   "outputs": [],
   "source": [
    "standard = StandardScaler()\n",
    "X = standard.fit_transform(X)"
   ]
  },
  {
   "cell_type": "markdown",
   "metadata": {},
   "source": [
    "### Split the array"
   ]
  },
  {
   "cell_type": "code",
   "execution_count": 68,
   "metadata": {
    "ExecuteTime": {
     "end_time": "2020-06-15T11:21:57.552783Z",
     "start_time": "2020-06-15T11:21:57.548743Z"
    }
   },
   "outputs": [],
   "source": [
    "np.random.seed(42)\n",
    "X_train,X_test, y_train, y_test = train_test_split(X,y,test_size=0.2, random_state=42)"
   ]
  },
  {
   "cell_type": "code",
   "execution_count": 69,
   "metadata": {
    "ExecuteTime": {
     "end_time": "2020-06-15T11:21:58.156165Z",
     "start_time": "2020-06-15T11:21:58.151167Z"
    }
   },
   "outputs": [
    {
     "name": "stdout",
     "output_type": "stream",
     "text": [
      "Training set:  (800, 11) (800,)\n",
      "\n",
      "Testing set:  (200, 11) (200,)\n"
     ]
    }
   ],
   "source": [
    "print(\"Training set: \", X_train.shape, y_train.shape)\n",
    "print()\n",
    "print(\"Testing set: \", X_test.shape, y_test.shape)\n"
   ]
  },
  {
   "cell_type": "markdown",
   "metadata": {},
   "source": [
    "* Import kneighbors classifier and metrics library"
   ]
  },
  {
   "cell_type": "code",
   "execution_count": 70,
   "metadata": {
    "ExecuteTime": {
     "end_time": "2020-06-15T11:21:59.117568Z",
     "start_time": "2020-06-15T11:21:59.114554Z"
    }
   },
   "outputs": [],
   "source": [
    "from sklearn.neighbors import KNeighborsClassifier\n",
    "from sklearn.metrics import accuracy_score"
   ]
  },
  {
   "cell_type": "markdown",
   "metadata": {},
   "source": [
    "### Training the model"
   ]
  },
  {
   "cell_type": "code",
   "execution_count": 71,
   "metadata": {
    "ExecuteTime": {
     "end_time": "2020-06-15T11:22:00.100918Z",
     "start_time": "2020-06-15T11:22:00.090977Z"
    }
   },
   "outputs": [
    {
     "data": {
      "text/plain": [
       "KNeighborsClassifier(n_neighbors=4)"
      ]
     },
     "execution_count": 71,
     "metadata": {},
     "output_type": "execute_result"
    }
   ],
   "source": [
    "k = 4\n",
    "neigh = KNeighborsClassifier(n_neighbors=k).fit(X_train, y_train)\n",
    "neigh"
   ]
  },
  {
   "cell_type": "markdown",
   "metadata": {},
   "source": [
    "### Prediction from model"
   ]
  },
  {
   "cell_type": "code",
   "execution_count": 72,
   "metadata": {
    "ExecuteTime": {
     "end_time": "2020-06-15T11:22:01.278010Z",
     "start_time": "2020-06-15T11:22:01.261096Z"
    }
   },
   "outputs": [
    {
     "data": {
      "text/plain": [
       "array([4, 2, 3, 2, 3, 3, 4, 3, 1, 4, 2, 3, 4, 1, 1, 1, 4, 4, 1, 1, 1, 1,\n",
       "       1, 3, 3, 3, 2, 4, 4, 4, 1, 1, 3, 1, 4, 2, 1, 1, 1, 4, 3, 3, 3, 3,\n",
       "       1, 3, 1, 3, 1, 1, 1, 1, 1, 1, 1, 1, 1, 1, 1, 1, 1, 2, 1, 2, 1, 2,\n",
       "       4, 1, 2, 1, 3, 3, 3, 1, 2, 1, 3, 3, 3, 1, 1, 1, 2, 2, 3, 3, 1, 4,\n",
       "       2, 2, 4, 3, 2, 3, 3, 2, 2, 1, 4, 1, 2, 3, 1, 2, 4, 1, 1, 3, 1, 2,\n",
       "       2, 1, 1, 1, 3, 2, 3, 3, 3, 3, 3, 3, 3, 3, 4, 2, 3, 3, 1, 2, 1, 4,\n",
       "       1, 1, 4, 2, 3, 2, 1, 1, 4, 1, 1, 4, 1, 4, 4, 3, 4, 3, 1, 4, 1, 3,\n",
       "       3, 1, 2, 3, 3, 1, 4, 1, 2, 3, 1, 1, 2, 3, 1, 4, 1, 3, 4, 4, 3, 4,\n",
       "       4, 1, 1, 1, 2, 3, 4, 2, 1, 4, 2, 2, 3, 1, 2, 1, 1, 1, 1, 1, 1, 4,\n",
       "       4, 3], dtype=int64)"
      ]
     },
     "execution_count": 72,
     "metadata": {},
     "output_type": "execute_result"
    }
   ],
   "source": [
    "y_hat = neigh.predict(X_test)\n",
    "y_hat"
   ]
  },
  {
   "cell_type": "markdown",
   "metadata": {},
   "source": [
    "### Accuracy evaluation\n",
    "\n",
    "In multilabel classification, __accuracy classification__ score function computes subset accuracy. This function is equal to the jaccard_similarity_score function. Essentially, it calculates how match the actual labels and predicted labels are in the test set.\n"
   ]
  },
  {
   "cell_type": "code",
   "execution_count": 73,
   "metadata": {
    "ExecuteTime": {
     "end_time": "2020-06-15T11:22:02.512800Z",
     "start_time": "2020-06-15T11:22:02.462745Z"
    }
   },
   "outputs": [
    {
     "name": "stdout",
     "output_type": "stream",
     "text": [
      "Training set accuracy:  0.54375\n",
      "\n",
      "Testing set accuracy:  0.325\n"
     ]
    }
   ],
   "source": [
    "print(\"Training set accuracy: \", accuracy_score(y_train, neigh.predict(X_train)))\n",
    "print()\n",
    "print(\"Testing set accuracy: \", accuracy_score(y_test, neigh.predict(X_test)))"
   ]
  },
  {
   "cell_type": "code",
   "execution_count": 74,
   "metadata": {
    "ExecuteTime": {
     "end_time": "2020-06-15T11:22:03.996007Z",
     "start_time": "2020-06-15T11:22:03.639008Z"
    }
   },
   "outputs": [
    {
     "name": "stdout",
     "output_type": "stream",
     "text": [
      "Training set accuracy for k = 1:  1.0\n",
      "Testing set accuracy for k = 1:  0.29\n",
      "\n",
      "Training set accuracy for k = 2:  0.63125\n",
      "Testing set accuracy for k = 2:  0.34\n",
      "\n",
      "Training set accuracy for k = 3:  0.575\n",
      "Testing set accuracy for k = 3:  0.365\n",
      "\n",
      "Training set accuracy for k = 4:  0.54375\n",
      "Testing set accuracy for k = 4:  0.325\n",
      "\n",
      "Training set accuracy for k = 5:  0.54375\n",
      "Testing set accuracy for k = 5:  0.33\n",
      "\n",
      "Training set accuracy for k = 6:  0.5075\n",
      "Testing set accuracy for k = 6:  0.33\n",
      "\n",
      "Training set accuracy for k = 7:  0.505\n",
      "Testing set accuracy for k = 7:  0.33\n",
      "\n",
      "Training set accuracy for k = 8:  0.51375\n",
      "Testing set accuracy for k = 8:  0.335\n",
      "\n",
      "Training set accuracy for k = 9:  0.50875\n",
      "Testing set accuracy for k = 9:  0.33\n",
      "\n"
     ]
    }
   ],
   "source": [
    "k = np.arange(1,10)\n",
    "for i in range(len(k)):\n",
    "    neigh = KNeighborsClassifier(n_neighbors=k[i]).fit(X_train, y_train)\n",
    "    print(\"Training set accuracy for k = {}: \".format(k[i]), accuracy_score(y_train, neigh.predict(X_train)))\n",
    "    print(\"Testing set accuracy for k = {}: \".format(k[i]), accuracy_score(y_test, neigh.predict(X_test)))\n",
    "    print()"
   ]
  },
  {
   "cell_type": "code",
   "execution_count": 76,
   "metadata": {
    "ExecuteTime": {
     "end_time": "2020-06-15T11:31:56.923256Z",
     "start_time": "2020-06-15T11:31:56.821255Z"
    }
   },
   "outputs": [
    {
     "data": {
      "text/plain": [
       "array([0.29 , 0.34 , 0.365, 0.325, 0.33 , 0.33 , 0.33 , 0.335, 0.33 ])"
      ]
     },
     "execution_count": 76,
     "metadata": {},
     "output_type": "execute_result"
    }
   ],
   "source": [
    "Ks = 10\n",
    "mean_acc = np.zeros((Ks-1))\n",
    "std_acc = np.zeros((Ks-1))\n",
    "ConfustionMx = [];\n",
    "for n in range(1,Ks):\n",
    "    \n",
    "    #Train Model and Predict  \n",
    "    neigh = KNeighborsClassifier(n_neighbors = n).fit(X_train,y_train)\n",
    "    yhat=neigh.predict(X_test)\n",
    "    mean_acc[n-1] = accuracy_score(y_test, yhat)\n",
    "\n",
    "    \n",
    "    std_acc[n-1]=np.std(yhat==y_test)/np.sqrt(yhat.shape[0])\n",
    "\n",
    "mean_acc"
   ]
  },
  {
   "cell_type": "code",
   "execution_count": 77,
   "metadata": {
    "ExecuteTime": {
     "end_time": "2020-06-15T11:32:14.529597Z",
     "start_time": "2020-06-15T11:32:14.354322Z"
    }
   },
   "outputs": [
    {
     "data": {
      "image/png": "[encoded data removed]",
      "text/plain": [
       "<Figure size 432x288 with 1 Axes>"
      ]
     },
     "metadata": {
      "needs_background": "light"
     },
     "output_type": "display_data"
    }
   ],
   "source": [
    "plt.plot(range(1,Ks),mean_acc,'g')\n",
    "plt.fill_between(range(1,Ks),mean_acc - 1 * std_acc,mean_acc + 1 * std_acc, alpha=0.10)\n",
    "plt.legend(('Accuracy ', '+/- 3xstd'))\n",
    "plt.ylabel('Accuracy ')\n",
    "plt.xlabel('Number of Nabors (K)')\n",
    "plt.tight_layout()\n",
    "plt.show()"
   ]
  },
  {
   "cell_type": "code",
   "execution_count": 78,
   "metadata": {
    "ExecuteTime": {
     "end_time": "2020-06-15T11:32:28.412238Z",
     "start_time": "2020-06-15T11:32:28.408238Z"
    }
   },
   "outputs": [
    {
     "name": "stdout",
     "output_type": "stream",
     "text": [
      "The best accuracy was with 0.365 with k= 3\n"
     ]
    }
   ],
   "source": [
    "print( \"The best accuracy was with\", mean_acc.max(), \"with k=\", mean_acc.argmax()+1) "
   ]
  },
  {
   "cell_type": "code",
   "execution_count": null,
   "metadata": {},
   "outputs": [],
   "source": []
  }
 ],
 "metadata": {
  "kernelspec": {
   "display_name": "Python 3",
   "language": "python",
   "name": "python3"
  },
  "language_info": {
   "codemirror_mode": {
    "name": "ipython",
    "version": 3
   },
   "file_extension": ".py",
   "mimetype": "text/x-python",
   "name": "python",
   "nbconvert_exporter": "python",
   "pygments_lexer": "ipython3",
   "version": "3.7.6"
  },
  "varInspector": {
   "cols": {
    "lenName": 16,
    "lenType": 16,
    "lenVar": 40
   },
   "kernels_config": {
    "python": {
     "delete_cmd_postfix": "",
     "delete_cmd_prefix": "del ",
     "library": "var_list.py",
     "varRefreshCmd": "print(var_dic_list())"
    },
    "r": {
     "delete_cmd_postfix": ") ",
     "delete_cmd_prefix": "rm(",
     "library": "var_list.r",
     "varRefreshCmd": "cat(var_dic_list()) "
    }
   },
   "types_to_exclude": [
    "module",
    "function",
    "builtin_function_or_method",
    "instance",
    "_Feature"
   ],
   "window_display": false
  }
 },
 "nbformat": 4,
 "nbformat_minor": 4
}
